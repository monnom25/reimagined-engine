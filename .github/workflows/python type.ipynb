{
 "cells": [
  {
   "cell_type": "code",
   "execution_count": 4,
   "id": "8dbda74a",
   "metadata": {},
   "outputs": [
    {
     "name": "stdout",
     "output_type": "stream",
     "text": [
      "10\n",
      "0.45999999999999996\n",
      "10\n",
      "10.4\n",
      "1010\n",
      "pythonisfun\n",
      "python is fun\n",
      "python is fun\n",
      "python \n",
      "is fun\n"
     ]
    }
   ],
   "source": [
    "print(10) # 정수\n",
    "print(1-.54) # 실수\n",
    "print(\"10\") # 문자열\n",
    "print(\"10.4\") # 문자열\n",
    "#print(10+ \"10\") # TypeError: unsupported operand type(s) for +: 'int' and 'str'\n",
    "print(\"10\" + \"10\")\n",
    "print(\"python\" + \"is\" + \"fun\")\n",
    "print(\"python\" + \" \" + \"is\"+ \" \" + \"fun\")\n",
    "print('python '+ 'is'+ ' fun')\n",
    "# 문자열에서는 +연산자는 붙이기 연산자이다.\n",
    "print('python \\n' + 'is'+ ' fun')"
   ]
  },
  {
   "cell_type": "code",
   "execution_count": 7,
   "id": "7a1117f7",
   "metadata": {},
   "outputs": [
    {
     "name": "stdout",
     "output_type": "stream",
     "text": [
      "python\n",
      "is \n",
      "fun\n",
      "python\n",
      "is\n",
      "fun\n",
      "Life is too short, You need python\n",
      "Life is too short, \n",
      "You need python\n",
      "Life is too short, \n",
      "You need python\n"
     ]
    }
   ],
   "source": [
    "# \"\" , '', \"\"\"\"\"\", ''''''\n",
    "a = '''python\n",
    "is \n",
    "fun'''\n",
    "print(a)\n",
    "a = \"\"\"python\n",
    "is\n",
    "fun\"\"\"\n",
    "print(a)\n",
    "print(\"Life is too short, You need python\")\n",
    "print(\"\"\"Life is too short, \n",
    "You need python\"\"\")\n",
    "print('''Life is too short, \n",
    "You need python''') # 행바꿈을 할 때 주로 사용"
   ]
  },
  {
   "cell_type": "code",
   "execution_count": 11,
   "id": "ed7b4b43",
   "metadata": {},
   "outputs": [
    {
     "name": "stdout",
     "output_type": "stream",
     "text": [
      "Life's too short, You need python\n",
      "Life is too short, \"You need python\"\n",
      "Life is too short, \"You need python\"\n",
      "Life's too short, You need python\n",
      "\tLife's too short, You need python\n"
     ]
    }
   ],
   "source": [
    "print(\"Life's too short, You need python\")\n",
    "print('Life is too short, \"You need python\"')\n",
    "print(\"Life is too short, \\\"You need python\\\"\")\n",
    "print('Life\\'s too short, You need python')\n",
    "print('\\tLife\\'s too short, You need python') # \\ : 제외시키기 위한 문자 (이스케이프문자)"
   ]
  },
  {
   "cell_type": "code",
   "execution_count": 12,
   "id": "a473a0bf",
   "metadata": {},
   "outputs": [
    {
     "name": "stdout",
     "output_type": "stream",
     "text": [
      "\tLife's too short\n",
      ", You need python\n"
     ]
    }
   ],
   "source": [
    "print('\\tLife\\'s too short\\n, You need python')"
   ]
  },
  {
   "cell_type": "code",
   "execution_count": 24,
   "id": "b49a42c3",
   "metadata": {},
   "outputs": [
    {
     "name": "stdout",
     "output_type": "stream",
     "text": [
      "10\n",
      "10.4\n",
      "유현수\n"
     ]
    }
   ],
   "source": [
    "a = 10\n",
    "print(a)\n",
    "a = 10.4\n",
    "print(a)\n",
    "a = \"유현수\"\n",
    "print(a)"
   ]
  },
  {
   "cell_type": "code",
   "execution_count": 15,
   "id": "67fee36c",
   "metadata": {},
   "outputs": [
    {
     "name": "stdout",
     "output_type": "stream",
     "text": [
      "pythonis fun\n",
      "python is fun\n",
      "============================================================\n",
      "제목\n",
      "============================================================\n",
      "pythonpythonpythonpythonpythonpythonpythonpythonpythonpythonpythonpythonpythonpythonpythonpythonpythonpythonpythonpythonpythonpythonpythonpythonpythonpythonpythonpythonpythonpython\n"
     ]
    }
   ],
   "source": [
    "head = \"python\"\n",
    "tail = \"is fun\"\n",
    "print(head + tail)\n",
    "print(head+\" \" + tail)\n",
    "print(\"==\" * 30) # *연산자 : 문자열 반복\n",
    "print(\"제목\")\n",
    "print(\"==\" * 30)\n",
    "print(head * 30)"
   ]
  },
  {
   "cell_type": "code",
   "execution_count": 40,
   "id": "a6b43fd6",
   "metadata": {},
   "outputs": [
    {
     "ename": "TypeError",
     "evalue": "'str' object is not callable",
     "output_type": "error",
     "traceback": [
      "\u001b[1;31m---------------------------------------------------------------------------\u001b[0m",
      "\u001b[1;31mTypeError\u001b[0m                                 Traceback (most recent call last)",
      "Cell \u001b[1;32mIn[40], line 1\u001b[0m\n\u001b[1;32m----> 1\u001b[0m \u001b[38;5;28mprint\u001b[39m(\u001b[38;5;28;43mstr\u001b[39;49m\u001b[43m(\u001b[49m\u001b[38;5;241;43m10\u001b[39;49m\u001b[43m)\u001b[49m \u001b[38;5;241m+\u001b[39m \u001b[38;5;124m\"\u001b[39m\u001b[38;5;124m20\u001b[39m\u001b[38;5;124m\"\u001b[39m)\n\u001b[0;32m      2\u001b[0m \u001b[38;5;66;03m# print(str(10) + \"20\")\u001b[39;00m\n\u001b[0;32m      3\u001b[0m \u001b[38;5;66;03m# 같은 이름의 함수와 변수를 툴 수 없다. str(), str\u001b[39;00m\n\u001b[0;32m      4\u001b[0m \u001b[38;5;28;01mdel\u001b[39;00m \u001b[38;5;28mstr\u001b[39m\n",
      "\u001b[1;31mTypeError\u001b[0m: 'str' object is not callable"
     ]
    }
   ],
   "source": [
    "print(str(10) + \"20\")\n",
    "# print(str(10) + \"20\")\n",
    "# 같은 이름의 함수와 변수를 툴 수 없다. str(), str\n",
    "del str\n",
    "print(str(10) + \"20\")\n",
    "a = 10"
   ]
  },
  {
   "cell_type": "code",
   "execution_count": 34,
   "id": "f733241b",
   "metadata": {},
   "outputs": [
    {
     "name": "stdout",
     "output_type": "stream",
     "text": [
      "Life is too short, You need python\n",
      "34\n",
      "L\n",
      "i\n",
      "t\n",
      "n\n"
     ]
    }
   ],
   "source": [
    "# indexing : index를 이용해서 원하는 문자를 가지고 오는 것\n",
    "# index는 문자열에서 문자가 가지고 있는 고유의 번호\n",
    "str1 = \"Life is too short, You need python\"\n",
    "#       01234567890123456\n",
    "#                 1\n",
    "print(str1)\n",
    "print(len(str1))\n",
    "print(str1[0])\n",
    "print(str1[5])\n",
    "print(str1[16])\n",
    "print(str1[len(str1) - 1])"
   ]
  },
  {
   "cell_type": "code",
   "execution_count": 38,
   "id": "ceee130e",
   "metadata": {},
   "outputs": [
    {
     "name": "stdout",
     "output_type": "stream",
     "text": [
      "L\n",
      "L\n",
      "L\n",
      "============================================================\n",
      "t\n",
      "t\n",
      "t\n",
      "============================================================\n",
      "r\n",
      "r\n",
      "============================================================\n",
      "Life\n"
     ]
    }
   ],
   "source": [
    "str1 = \"Life is too short\"\n",
    "#      01234567890123456\n",
    "#                1\n",
    "#      76543210987654321 -\n",
    "#             1\n",
    "print(str1[0])\n",
    "print(str1[-17])\n",
    "print(str1[-len(str1)])\n",
    "print(\"==\" * 30)\n",
    "print(str1[16])\n",
    "print(str1[-1])\n",
    "print(str1[len(str1) -1 ])\n",
    "print(\"==\" *30)\n",
    "print(str1[15]); print(str1[-2])\n",
    "print(\"==\" *30)\n",
    "print(str1[0]+str1[1]+str1[2]+str1[3])"
   ]
  },
  {
   "cell_type": "code",
   "execution_count": 43,
   "id": "bf615225",
   "metadata": {},
   "outputs": [
    {
     "name": "stdout",
     "output_type": "stream",
     "text": [
      "Life\n",
      "Life\n",
      "too\n",
      "too\n",
      "too\n",
      "too\n"
     ]
    }
   ],
   "source": [
    "# slicing : 문자열 자르기\n",
    "print(str1[0:4])\n",
    "print(str1[0:0+4])\n",
    "# too\n",
    "print(str1[8 : 8 + 3])\n",
    "print(str1[-9: -6])\n",
    "print(str1[-9: -9 +3])\n",
    "print(str1[8 : -6])"
   ]
  },
  {
   "cell_type": "code",
   "execution_count": 51,
   "id": "7a7e473b",
   "metadata": {},
   "outputs": [
    {
     "name": "stdout",
     "output_type": "stream",
     "text": [
      "Life\n",
      "Life\n",
      "Life\n",
      "short\n"
     ]
    },
    {
     "ename": "NameError",
     "evalue": "name 'en' is not defined",
     "output_type": "error",
     "traceback": [
      "\u001b[1;31m---------------------------------------------------------------------------\u001b[0m",
      "\u001b[1;31mNameError\u001b[0m                                 Traceback (most recent call last)",
      "Cell \u001b[1;32mIn[51], line 12\u001b[0m\n\u001b[0;32m     10\u001b[0m \u001b[38;5;66;03m# short\u001b[39;00m\n\u001b[0;32m     11\u001b[0m \u001b[38;5;28mprint\u001b[39m(str1[\u001b[38;5;241m12\u001b[39m:\u001b[38;5;241m17\u001b[39m])\n\u001b[1;32m---> 12\u001b[0m \u001b[38;5;28mprint\u001b[39m(str1[\u001b[38;5;241m12\u001b[39m:\u001b[43men\u001b[49m(str1)])\n\u001b[0;32m     13\u001b[0m \u001b[38;5;28mprint\u001b[39m(str1[\u001b[38;5;241m12\u001b[39m:])\n",
      "\u001b[1;31mNameError\u001b[0m: name 'en' is not defined"
     ]
    }
   ],
   "source": [
    "str1 = \"Life is too short\"\n",
    "#       01234567890123456\n",
    "#                 1\n",
    "#       76543210987654321 -\n",
    "#              1\n",
    "# Life\n",
    "print(str1[0:4])\n",
    "print(str1[ :4])\n",
    "print(str1[:-13])\n",
    "# short\n",
    "print(str1[12:17])\n",
    "print(str1[12:en(str1)])\n",
    "print(str1[12:])"
   ]
  },
  {
   "cell_type": "code",
   "execution_count": 49,
   "id": "4149f4b3",
   "metadata": {},
   "outputs": [
    {
     "name": "stdout",
     "output_type": "stream",
     "text": [
      "20010331\n",
      "Rainy\n",
      "i\n"
     ]
    }
   ],
   "source": [
    "# 날짜와 이름을 분리하여 출력\n",
    "a = \"20010331Rainy\"\n",
    "print(a[:8])\n",
    "print(a[8:])\n",
    "a = \"pithon\"\n",
    "print(a[1])\n",
    "#a[1] = \"y\" : 문자열은 index를 이용해서 값을 변경할 수 없다."
   ]
  },
  {
   "cell_type": "code",
   "execution_count": 63,
   "id": "965035ef",
   "metadata": {},
   "outputs": [
    {
     "name": "stdout",
     "output_type": "stream",
     "text": [
      "현재 온도는 30도 입니다.\n",
      "현재 온도는 40도 입니다.\n"
     ]
    }
   ],
   "source": [
    "# \"\",'',\"\"\"\"\"\",''''''\n",
    "# +, *\n",
    "# indexing, slicing\n",
    "# 문자열 포매팅\n",
    "print(\"현재 온도는 30도 입니다.\")\n",
    "print(\"현재 온도는 40도 입니다.\")"
   ]
  },
  {
   "cell_type": "code",
   "execution_count": 79,
   "id": "f4dd825a",
   "metadata": {},
   "outputs": [
    {
     "name": "stdout",
     "output_type": "stream",
     "text": [
      "유현수의 계좌번호는 1111번이고 잔액은 100원입니다.\n",
      "유현수의 계좌번호는 1111번이고 잔액은 100원입니다.\n",
      "유현수의 계좌번호는 1111번이고 잔액은 1000원입니다.\n",
      "============================================================\n",
      "유현수의 나이는 29살이고 키는 177.000000입니다.\n",
      "유현수의 나이는 29살이고 키는 177.0입니다.\n",
      "유현수의 나이는 29살이고 키는 177.0입니다.\n",
      "유현수의 나이는 29살이고 키는 177.0입니다.\n",
      "유현수의 나이는 29살이고 키는 177.00입니다.\n",
      "유현수의 나이는 29살이고 키는 177입니다.\n"
     ]
    }
   ],
   "source": [
    "account = '1111'\n",
    "name = '유현수'\n",
    "money = 100\n",
    "### 유현수의 계좌번호는 1111번이고 잔액은 100원입니다.\n",
    "print(name+\"의 계좌번호는 \"+ account +\"번이고 잔액은 \"+str(money)+\"원입니다.\")\n",
    "print(\"%s의 계좌번호는 %s번이고 잔액은 %d원입니다.\" % (name,account,money))\n",
    "# %s : 문자열, %d : 숫자, %f : 실수, %c : 문자 =>\n",
    "print(\"%s의 계좌번호는 %s번이고 잔액은 %d원입니다.\"% (name,account,1000))\n",
    "print(\"==\" *30)\n",
    "\"유현수의 나이는 29살이고 키는 177입니다\"\n",
    "age = 29\n",
    "height = 177\n",
    "a = \"%s의 나이는 %d살이고 키는 %f입니다.\" % (name, age, height)\n",
    "print(a)\n",
    "a = \"%s의 나이는 %d살이고 키는 %5.1f입니다.\" % (name, age, height)\n",
    "print(a)\n",
    "a = \"%s의 나이는 %d살이고 키는 %3.1f입니다.\" % (name, age, height)\n",
    "print(a)\n",
    "a = \"%s의 나이는 %d살이고 키는 %.1f입니다.\" % (name, age, height)\n",
    "print(a)\n",
    "a = \"%s의 나이는 %d살이고 키는 %.2f입니다.\" % (name, age, height)\n",
    "print(a)\n",
    "a = \"%s의 나이는 %d살이고 키는 %s입니다.\" % (name, age, height)\n",
    "print(a)"
   ]
  },
  {
   "cell_type": "code",
   "execution_count": 80,
   "id": "3833e3a0",
   "metadata": {},
   "outputs": [
    {
     "name": "stdout",
     "output_type": "stream",
     "text": [
      "유현수의 나이는 29살이고 키는 177.00입니다.\n",
      "유현수의 나이는         29살이고 키는     177.00입니다.\n",
      "유현수의 나이는 29        살이고 키는 177.00    입니다.\n"
     ]
    }
   ],
   "source": [
    "#-는 왼쪽정렬, +는 오른쪽 정렬\n",
    "a = \"%s의 나이는 %d살이고 키는 %.2f입니다.\" % (name, age, height)\n",
    "print(a)\n",
    "a = \"%s의 나이는 %10d살이고 키는 %10.2f입니다.\" % (name, age, height)\n",
    "print(a)\n",
    "a = \"%s의 나이는 %-10d살이고 키는 %-10.2f입니다.\" % (name, age, height)\n",
    "print(a)"
   ]
  },
  {
   "cell_type": "code",
   "execution_count": 83,
   "id": "dbeb59dc",
   "metadata": {},
   "outputs": [
    {
     "name": "stdout",
     "output_type": "stream",
     "text": [
      "유현수의 나이는 29살이고 키는 177입니다.\n",
      "유현수의 나이는 29살이고 키는 177입니다.\n",
      "유현수님의 나이는 29살이고요 유현수의 키는 177입니다.\n"
     ]
    }
   ],
   "source": [
    "# format 함수를 사용한 포매팅\n",
    "# 문자열 : \"\",''\n",
    "# 변수 : abc\n",
    "# 함수 : abc(), ### print() , str(), int(), format()\n",
    "a = \"{0}의 나이는 {1}살이고 키는 {2}입니다.\".format(name, age, height)\n",
    "#                                                    0     1     2\n",
    "print(a)\n",
    "a = \"{1}의 나이는 {0}살이고 키는 {2}입니다.\".format(age, name, height)\n",
    "print(a)\n",
    "# 유현수님의 나이는 29살이고요 유현수의 키는 177입니다.\n",
    "a = \"{0}님의 나이는 {1}살이고요 {0}의 키는 {2}입니다.\"\\\n",
    "                  .format(name, age, height)\n",
    "print(a)"
   ]
  },
  {
   "cell_type": "code",
   "execution_count": 87,
   "id": "5ab2fe79",
   "metadata": {},
   "outputs": [
    {
     "name": "stdout",
     "output_type": "stream",
     "text": [
      "유현수님의 나이는 29살이고요 유현수의 키는 177입니다.\n",
      "유현수님의 나이는 29살이고요 유현수의 키는 130입니다.\n",
      "유현수님의 나이는 29살이고요 유현수의 키는 130입니다.\n"
     ]
    }
   ],
   "source": [
    "a = \"{0}님의 나이는 {1}살이고요 {0}의 키는 {bbb}입니다.\"\\\n",
    "                  .format(name, age, bbb=height)\n",
    "print(a)\n",
    "a = \"{0}님의 나이는 {1}살이고요 {0}의 키는 {bbb}입니다.\"\\\n",
    "                  .format(name, age, bbb=130)\n",
    "print(a)\n",
    "'''\n",
    "a = \"{0}님의 나이는 {1}살이고요 {0}의 키는 {2}입니다.\"\\\n",
    "                  .format(name, age, bbb=130)\n",
    "print(a)\n",
    "\n",
    "a = \"{0}님의 나이는 {1}살이고요 {0}의 키는 {bbb}입니다.\"\\\n",
    "                  .format(name, bbb=130, age)\n",
    "print(a)\n",
    "'''\n",
    "# 이름을 사용하는 경우에는 이름을 맨뒤 부터 붙여주면 된다.\n",
    "a = \"{0}님의 나이는 {age}살이고요 {0}의 키는 {bbb}입니다.\"\\\n",
    "                  .format(name, bbb=130,age=29)\n",
    "print(a)"
   ]
  },
  {
   "cell_type": "code",
   "execution_count": 88,
   "id": "8a3cedbb",
   "metadata": {},
   "outputs": [
    {
     "name": "stdout",
     "output_type": "stream",
     "text": [
      "유현수님의 나이는 29살이고요 유현수의 키는 177입니다.\n"
     ]
    }
   ],
   "source": [
    "### f 문자열 포메팅\n",
    "name = '유현수'\n",
    "age = 29\n",
    "height = 177\n",
    "\"유현수님의 나이는 29살이고요 유현수의 키는 177입니다.\"\n",
    "print(f\"{name}님의 나이는 {age}살이고요 {name}의 키는 {height}입니다.\")"
   ]
  },
  {
   "cell_type": "code",
   "execution_count": null,
   "id": "234a9a88",
   "metadata": {},
   "outputs": [],
   "source": [
    "# 포매팅\n",
    "# 1. 포맷문자를 이용한 포맷팅\n",
    "# 2. format함수를 이용한 포맷팅\n",
    "# 3. f문자를 이용한 포맷팅\n",
    "\n",
    "# indexing, slicing (자바:substring)\n",
    "# 문자열 연산자 : +, *"
   ]
  },
  {
   "cell_type": "code",
   "execution_count": 93,
   "id": "4565ce7c",
   "metadata": {
    "scrolled": true
   },
   "outputs": [
    {
     "name": "stdout",
     "output_type": "stream",
     "text": [
      "5\n",
      "5\n",
      "2\n",
      "2\n",
      "obb\n"
     ]
    }
   ],
   "source": [
    "### 문자열 가공하기 : 문자열 함수\n",
    "a = \"hobby\"\n",
    "#    01234\n",
    "# 문자열의 크기\n",
    "print(len(a))\n",
    "print(len(\"hobby\"))\n",
    "# 문자의 갯수\n",
    "print(a.count('b'))\n",
    "print(\"hobby\".count('b'))\n",
    "print(a[1:1+3])"
   ]
  },
  {
   "cell_type": "code",
   "execution_count": 102,
   "id": "d532142e",
   "metadata": {},
   "outputs": [
    {
     "name": "stdout",
     "output_type": "stream",
     "text": [
      "8\n",
      "too\n",
      "1\n"
     ]
    },
    {
     "ename": "TypeError",
     "evalue": "can only concatenate str (not \"int\") to str",
     "output_type": "error",
     "traceback": [
      "\u001b[1;31m---------------------------------------------------------------------------\u001b[0m",
      "\u001b[1;31mTypeError\u001b[0m                                 Traceback (most recent call last)",
      "Cell \u001b[1;32mIn[102], line 6\u001b[0m\n\u001b[0;32m      4\u001b[0m \u001b[38;5;28mprint\u001b[39m(a[a\u001b[38;5;241m.\u001b[39mindex(\u001b[38;5;124m\"\u001b[39m\u001b[38;5;124mtoo\u001b[39m\u001b[38;5;124m\"\u001b[39m):a\u001b[38;5;241m.\u001b[39mindex(\u001b[38;5;124m\"\u001b[39m\u001b[38;5;124mtoo\u001b[39m\u001b[38;5;124m\"\u001b[39m) \u001b[38;5;241m+\u001b[39m \u001b[38;5;241m3\u001b[39m])\n\u001b[0;32m      5\u001b[0m \u001b[38;5;28mprint\u001b[39m(a\u001b[38;5;241m.\u001b[39mindex(\u001b[38;5;124m'\u001b[39m\u001b[38;5;124mi\u001b[39m\u001b[38;5;124m'\u001b[39m))\n\u001b[1;32m----> 6\u001b[0m \u001b[38;5;28mprint\u001b[39m(\u001b[43ma\u001b[49m\u001b[43m[\u001b[49m\u001b[43ma\u001b[49m\u001b[38;5;241;43m.\u001b[39;49m\u001b[43mindex\u001b[49m\u001b[43m(\u001b[49m\u001b[38;5;124;43m'\u001b[39;49m\u001b[38;5;124;43mi\u001b[39;49m\u001b[38;5;124;43m'\u001b[39;49m\u001b[43m)\u001b[49m\u001b[43m \u001b[49m\u001b[43m:\u001b[49m\u001b[43m \u001b[49m\u001b[43ma\u001b[49m\u001b[38;5;241;43m.\u001b[39;49m\u001b[43mindex\u001b[49m\u001b[43m(\u001b[49m\u001b[38;5;124;43m'\u001b[39;49m\u001b[38;5;124;43mi\u001b[39;49m\u001b[38;5;124;43m'\u001b[39;49m\u001b[43m)\u001b[49m\u001b[43m]\u001b[49m\u001b[43m \u001b[49m\u001b[38;5;241;43m+\u001b[39;49m\u001b[43m \u001b[49m\u001b[38;5;241;43m2\u001b[39;49m)\n\u001b[0;32m      7\u001b[0m \u001b[38;5;28mprint\u001b[39m(a\u001b[38;5;241m.\u001b[39mrindex(\u001b[38;5;124m'\u001b[39m\u001b[38;5;124mi\u001b[39m\u001b[38;5;124m'\u001b[39m))\n\u001b[0;32m      8\u001b[0m \u001b[38;5;28mprint\u001b[39m(a[a\u001b[38;5;241m.\u001b[39mrindex(\u001b[38;5;124m'\u001b[39m\u001b[38;5;124mi\u001b[39m\u001b[38;5;124m'\u001b[39m) : a\u001b[38;5;241m.\u001b[39mrindex(\u001b[38;5;124m'\u001b[39m\u001b[38;5;124mi\u001b[39m\u001b[38;5;124m'\u001b[39m) \u001b[38;5;241m+\u001b[39m \u001b[38;5;241m2\u001b[39m])\n",
      "\u001b[1;31mTypeError\u001b[0m: can only concatenate str (not \"int\") to str"
     ]
    }
   ],
   "source": [
    "a = \"Life is too short\"\n",
    "#    012345678\n",
    "print(a.index(\"too\"))\n",
    "print(a[a.index(\"too\"):a.index(\"too\") + 3])\n",
    "print(a.index('i'))\n",
    "print(a[a.index('i') : a.index('i')] + 2)\n",
    "print(a.rindex('i'))\n",
    "print(a[a.rindex('i') : a.rindex('i') + 2])\n",
    "print(a.index('i',2))\n",
    "print(a.index('i', a.index('i') + 1))\n",
    "i = a.index('i', a.index('i') + 1)\n",
    "print(a[i : i + 2])"
   ]
  },
  {
   "cell_type": "code",
   "execution_count": 99,
   "id": "58b63d99",
   "metadata": {},
   "outputs": [
    {
     "name": "stdout",
     "output_type": "stream",
     "text": [
      "8\n",
      "8\n",
      "too\n",
      "too\n",
      "5\n",
      "1\n",
      "if\n",
      "5\n",
      "5\n",
      "5\n"
     ]
    }
   ],
   "source": [
    "a = \"Life is too short\"\n",
    "#    012345678\n",
    "print(a.index(\"too\"))\n",
    "print(a.find(\"too\"))\n",
    "print(a[a.find(\"too\"):a.find(\"too\") + 3])\n",
    "print(a[a.find(\"t\"):a.find(\"t\") + 3])\n",
    "print(a.find('is'))\n",
    "print(a.find('i'))\n",
    "print(a[a.find('i') : a.find('i') + 2])\n",
    "print(a.find('i',2))\n",
    "print(a.find('i',a.find('i') + 1))\n",
    "print(a.rfind('i'))"
   ]
  },
  {
   "cell_type": "code",
   "execution_count": 101,
   "id": "dc518b22",
   "metadata": {},
   "outputs": [
    {
     "name": "stdout",
     "output_type": "stream",
     "text": [
      "-1\n"
     ]
    }
   ],
   "source": [
    "# print(a.index('k')) # 없는 문자를 찾을 때 오류\n",
    "print(a.find('k'))"
   ]
  },
  {
   "cell_type": "code",
   "execution_count": 105,
   "id": "95167d77",
   "metadata": {},
   "outputs": [
    {
     "name": "stdout",
     "output_type": "stream",
     "text": [
      "life is too short\n",
      "Life is too short\n",
      "life is too short\n",
      "LIFE IS TOO SHORT\n"
     ]
    }
   ],
   "source": [
    "a = \"Life is too short\"\n",
    "# 모두 소문자로 가져오기\n",
    "print(a.lower())\n",
    "print(a)\n",
    "result = a.lower()\n",
    "print(result)\n",
    "# 모두 대문자로 가져오기\n",
    "result = a.upper()\n",
    "print(result)"
   ]
  },
  {
   "cell_type": "code",
   "execution_count": 111,
   "id": "e85f8981",
   "metadata": {},
   "outputs": [
    {
     "name": "stdout",
     "output_type": "stream",
     "text": [
      " abcd \n",
      "abcd\n",
      " 유 현수 \n",
      "유 현수\n",
      " 유 현수\n",
      "유 현수 \n",
      "zsgeabsdg\n"
     ]
    }
   ],
   "source": [
    "c = ' abcd '\n",
    "print(c)\n",
    "print(c.strip())\n",
    "d = \" 유 현수 \"\n",
    "print(d)\n",
    "print(d.strip())\n",
    "print(d.rstrip())\n",
    "print(d.lstrip())\n",
    "e = \"abzsgeabsdg\"\n",
    "print(e.strip('ab'))"
   ]
  },
  {
   "cell_type": "code",
   "execution_count": 113,
   "id": "5e1af2ec",
   "metadata": {},
   "outputs": [
    {
     "name": "stdout",
     "output_type": "stream",
     "text": [
      "Your leg is too short\n",
      "Life is too short\n",
      "Your leg is too short\n"
     ]
    }
   ],
   "source": [
    "# 문자열 대체\n",
    "b = \"Life is too short\"\n",
    "# \"Life\"를 \"Your leg\"로 변경\n",
    "print(b.replace('Life','Your leg'))\n",
    "print(b)\n",
    "result = b.replace('Life','Your leg')\n",
    "print(result)"
   ]
  },
  {
   "cell_type": "code",
   "execution_count": 115,
   "id": "2290f93a",
   "metadata": {},
   "outputs": [
    {
     "name": "stdout",
     "output_type": "stream",
     "text": [
      "['Life', 'is', 'too', 'short']\n",
      "['Life', 'is', 'too', 'short']\n"
     ]
    }
   ],
   "source": [
    "# 쪼개기\n",
    "b = \"Life is too short\"\n",
    "result = b.split() # 리스트\n",
    "print(result)\n",
    "b = \"Life:is:too:short\"\n",
    "result = b.split(':') # 리스트\n",
    "print(result)"
   ]
  },
  {
   "cell_type": "code",
   "execution_count": null,
   "id": "403b78d6",
   "metadata": {},
   "outputs": [],
   "source": []
  }
 ],
 "metadata": {
  "kernelspec": {
   "display_name": "Python 3 (ipykernel)",
   "language": "python",
   "name": "python3"
  },
  "language_info": {
   "codemirror_mode": {
    "name": "ipython",
    "version": 3
   },
   "file_extension": ".py",
   "mimetype": "text/x-python",
   "name": "python",
   "nbconvert_exporter": "python",
   "pygments_lexer": "ipython3",
   "version": "3.8.10"
  }
 },
 "nbformat": 4,
 "nbformat_minor": 5
}
